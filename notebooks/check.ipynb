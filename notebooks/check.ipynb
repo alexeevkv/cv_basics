{
 "cells": [
  {
   "cell_type": "code",
   "execution_count": 1,
   "metadata": {},
   "outputs": [],
   "source": [
    "import sys\n",
    "sys.path.append('../')"
   ]
  },
  {
   "cell_type": "code",
   "execution_count": 2,
   "metadata": {},
   "outputs": [
    {
     "name": "stderr",
     "output_type": "stream",
     "text": [
      "c:\\Users\\User\\Desktop\\projects\\cv_basics\\venv\\lib\\site-packages\\tqdm\\auto.py:21: TqdmWarning: IProgress not found. Please update jupyter and ipywidgets. See https://ipywidgets.readthedocs.io/en/stable/user_install.html\n",
      "  from .autonotebook import tqdm as notebook_tqdm\n"
     ]
    }
   ],
   "source": [
    "import torch\n",
    "import albumentations as A\n",
    "import matplotlib.pyplot as plt\n",
    "\n",
    "from src.torch.dataset import data_split\n",
    "from src.config import prepare_config"
   ]
  },
  {
   "cell_type": "code",
   "execution_count": 6,
   "metadata": {},
   "outputs": [],
   "source": [
    "dataset_params = prepare_config('../params.yaml', config_key='dataset', resolve=True)['cifar10']\n",
    "\n",
    "train_dataloader, val_dataloader, test_dataloader = data_split(**dataset_params)"
   ]
  },
  {
   "cell_type": "code",
   "execution_count": 3,
   "metadata": {},
   "outputs": [
    {
     "name": "stdout",
     "output_type": "stream",
     "text": [
      "Compose(\n",
      "    Resize(size=(32, 32), interpolation=bilinear, max_size=None, antialias=None)\n",
      "    RandomResizedCrop(size=(32, 32), scale=(0.25, 1.0), ratio=(1.0, 1.0), interpolation=bilinear), antialias=None)\n",
      "    RandomHorizontalFlip(p=0.5)\n",
      "    RandomRotation(degrees=[-15.0, 15.0], interpolation=nearest, expand=False, fill=0)\n",
      "    RandomAffine(degrees=[0.0, 0.0], scale=(0.8, 1.2), shear=[-10.0, 10.0])\n",
      "    ColorJitter(brightness=[0.8, 1.2], contrast=[0.8, 1.2], saturation=[0.8, 1.2], hue=None)\n",
      "    ToTensor()\n",
      "    Normalize(mean=(0.5, 0.5, 0.5), std=(0.5, 0.5, 0.5))\n",
      "    RandomApply(\n",
      "    p=0.25\n",
      "    GaussianNoise(mean=0, std=0.05)\n",
      ")\n",
      ")\n"
     ]
    },
    {
     "data": {
      "text/plain": [
       "(tensor([[[-0.9059, -0.9059, -0.6941,  ..., -0.4824, -0.5059, -0.5059],\n",
       "          [-0.9059, -0.9059, -0.6235,  ..., -0.4980, -0.5137, -0.5373],\n",
       "          [-0.9059, -0.2471, -0.2471,  ..., -0.5059, -0.5373, -0.5451],\n",
       "          ...,\n",
       "          [-0.2549, -0.2706, -0.3255,  ..., -0.7412, -0.7412, -0.9059],\n",
       "          [-0.2000, -0.2078, -0.2784,  ..., -0.7412, -0.9059, -0.9059],\n",
       "          [-0.0667, -0.0980, -0.2000,  ..., -0.7333, -0.9059, -0.9059]],\n",
       " \n",
       "         [[-0.9059, -0.9059, -0.7176,  ..., -0.4510, -0.4588, -0.4824],\n",
       "          [-0.9059, -0.9059, -0.6627,  ..., -0.4510, -0.4745, -0.5059],\n",
       "          [-0.9059, -0.3176, -0.3176,  ..., -0.4824, -0.5059, -0.5137],\n",
       "          ...,\n",
       "          [-0.3333, -0.3412, -0.3725,  ..., -0.7569, -0.7569, -0.9059],\n",
       "          [-0.2706, -0.2863, -0.3255,  ..., -0.7569, -0.9059, -0.9059],\n",
       "          [-0.1373, -0.1608, -0.2471,  ..., -0.7490, -0.9059, -0.9059]],\n",
       " \n",
       "         [[-0.9059, -0.9059, -0.6706,  ..., -0.3255, -0.3412, -0.3569],\n",
       "          [-0.9059, -0.9059, -0.6314,  ..., -0.3333, -0.3647, -0.3725],\n",
       "          [-0.9059, -0.3176, -0.3176,  ..., -0.3569, -0.3725, -0.3882],\n",
       "          ...,\n",
       "          [-0.3647, -0.3725, -0.4039,  ..., -0.7098, -0.7098, -0.9059],\n",
       "          [-0.2941, -0.2941, -0.3412,  ..., -0.7098, -0.9059, -0.9059],\n",
       "          [-0.1451, -0.1608, -0.2471,  ..., -0.7098, -0.9059, -0.9059]]]),\n",
       " 6)"
      ]
     },
     "execution_count": 3,
     "metadata": {},
     "output_type": "execute_result"
    }
   ],
   "source": [
    "train_dataloader.dataset[0]"
   ]
  },
  {
   "cell_type": "code",
   "execution_count": 3,
   "metadata": {},
   "outputs": [],
   "source": [
    "image = train_dataloader.dataset[1][0]"
   ]
  },
  {
   "cell_type": "code",
   "execution_count": 4,
   "metadata": {},
   "outputs": [
    {
     "data": {
      "text/plain": [
       "<matplotlib.image.AxesImage at 0x18956f4e070>"
      ]
     },
     "execution_count": 4,
     "metadata": {},
     "output_type": "execute_result"
    },
    {
     "data": {
      "image/png": "[encoded data removed]",
      "text/plain": [
       "<Figure size 640x480 with 1 Axes>"
      ]
     },
     "metadata": {},
     "output_type": "display_data"
    }
   ],
   "source": [
    "plt.imshow(image)"
   ]
  },
  {
   "cell_type": "code",
   "execution_count": null,
   "metadata": {},
   "outputs": [],
   "source": []
  }
 ],
 "metadata": {
  "kernelspec": {
   "display_name": "venv",
   "language": "python",
   "name": "python3"
  },
  "language_info": {
   "codemirror_mode": {
    "name": "ipython",
    "version": 3
   },
   "file_extension": ".py",
   "mimetype": "text/x-python",
   "name": "python",
   "nbconvert_exporter": "python",
   "pygments_lexer": "ipython3",
   "version": "3.9.13"
  },
  "orig_nbformat": 4
 },
 "nbformat": 4,
 "nbformat_minor": 2
}
