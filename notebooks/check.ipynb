{
 "cells": [
  {
   "cell_type": "code",
   "execution_count": 2,
   "metadata": {},
   "outputs": [],
   "source": [
    "import sys\n",
    "sys.path.append('../')"
   ]
  },
  {
   "cell_type": "code",
   "execution_count": 19,
   "metadata": {},
   "outputs": [],
   "source": [
    "import torch\n",
    "import numpy as np\n",
    "import albumentations as A\n",
    "import matplotlib.pyplot as plt\n",
    "from skimage.util import random_noise\n",
    "from torchvision import transforms\n",
    "\n",
    "from src.torch.dataset import data_split\n",
    "from src.config import prepare_config\n",
    "from src.visualize.plots import show_images"
   ]
  },
  {
   "cell_type": "code",
   "execution_count": 5,
   "metadata": {},
   "outputs": [
    {
     "name": "stdout",
     "output_type": "stream",
     "text": [
      "Downloading https://www.cs.toronto.edu/~kriz/cifar-10-python.tar.gz to ./data/CIFAR10/cifar-10-python.tar.gz\n"
     ]
    },
    {
     "name": "stderr",
     "output_type": "stream",
     "text": [
      "100%|██████████| 170498071/170498071 [00:42<00:00, 4026063.21it/s]\n"
     ]
    },
    {
     "name": "stdout",
     "output_type": "stream",
     "text": [
      "Extracting ./data/CIFAR10/cifar-10-python.tar.gz to ./data/CIFAR10\n",
      "Files already downloaded and verified\n"
     ]
    }
   ],
   "source": [
    "train_dataloader, val_dataloader, test_dataloader = data_split(\n",
    "    train_batch_size=1,\n",
    "    val_batch_size=1,\n",
    "    test_batch_size=1,\n",
    "    train_transforms=None,\n",
    "    test_transforms=None,\n",
    "    train_augm=None,\n",
    "    test_augm=None,\n",
    "    download=True,\n",
    "    random_state=42,\n",
    ")"
   ]
  },
  {
   "cell_type": "code",
   "execution_count": 11,
   "metadata": {},
   "outputs": [],
   "source": [
    "MEAN, STD = (0.5, 0.5, 0.5), (0.5, 0.5, 0.5)\n",
    "\n",
    "\n",
    "class GaussianNoise(object):\n",
    "    def __init__(self, mean=0, std=1):\n",
    "        self.mean = mean\n",
    "        self.std = std\n",
    "\n",
    "    def __call__(self, tensor):\n",
    "        return tensor + torch.randn(tensor.size()) * self.std + self.mean\n",
    "\n",
    "    def __repr__(self):\n",
    "        return self.__class__.__name__ + \"(mean={0}, std={1})\".format(\n",
    "            self.mean, self.std\n",
    "        )\n",
    "\n",
    "\n",
    "class PepperNoise(object):\n",
    "    def __init__(self, amount=0.1):\n",
    "        self.amount = amount\n",
    "\n",
    "    def __call__(self, tensor):\n",
    "        return torch.tensor(random_noise(tensor, mode=\"pepper\", amount=self.amount))\n",
    "\n",
    "    def __repr__(self):\n",
    "        return self.__class__.__name__ + \"(amount={0})\".format(self.amount)\n",
    "\n",
    "\n",
    "def get_train_transforms():\n",
    "    trans = [\n",
    "        transforms.Resize((32, 32)),\n",
    "        transforms.RandomResizedCrop(32, scale=(0.25, 1.0), ratio=(1.0, 1.0)),\n",
    "        transforms.RandomHorizontalFlip(p=0.5),\n",
    "        transforms.RandomRotation(15),\n",
    "        transforms.RandomAffine(0, shear=10, scale=(0.8, 1.2)),\n",
    "        transforms.ColorJitter(brightness=0.2, contrast=0.2, saturation=0.2),\n",
    "        transforms.ToTensor(),\n",
    "        transforms.Normalize(MEAN, STD),\n",
    "        transforms.RandomApply([GaussianNoise(0, 0.05)], p=0.25),\n",
    "    ]\n",
    "    return transforms.Compose(trans)\n",
    "\n",
    "\n",
    "def get_val_transforms():\n",
    "    trans = [\n",
    "        transforms.Resize((32, 32)),\n",
    "        transforms.ToTensor(),\n",
    "        transforms.Normalize(MEAN, STD),\n",
    "    ]\n",
    "    return transforms.Compose(trans)\n"
   ]
  },
  {
   "cell_type": "code",
   "execution_count": 12,
   "metadata": {},
   "outputs": [],
   "source": [
    "image = train_dataloader.dataset[0][0]"
   ]
  },
  {
   "cell_type": "code",
   "execution_count": 13,
   "metadata": {},
   "outputs": [],
   "source": [
    "train_tf = get_train_transforms()\n",
    "test_tf = get_val_transforms()"
   ]
  },
  {
   "cell_type": "code",
   "execution_count": 23,
   "metadata": {},
   "outputs": [],
   "source": [
    "_image = np.asarray(image)\n",
    "transformed_image = train_tf(image).numpy().transpose(2, 1, 0)"
   ]
  },
  {
   "cell_type": "code",
   "execution_count": 27,
   "metadata": {},
   "outputs": [
    {
     "ename": "TypeError",
     "evalue": "show_images() got an unexpected keyword argument '_image'",
     "output_type": "error",
     "traceback": [
      "\u001b[0;31m---------------------------------------------------------------------------\u001b[0m",
      "\u001b[0;31mTypeError\u001b[0m                                 Traceback (most recent call last)",
      "Cell \u001b[0;32mIn[27], line 1\u001b[0m\n\u001b[0;32m----> 1\u001b[0m show_images(_image\u001b[39m=\u001b[39;49m_image, transformed_image\u001b[39m=\u001b[39;49mtransformed_image)\n",
      "\u001b[0;31mTypeError\u001b[0m: show_images() got an unexpected keyword argument '_image'"
     ]
    }
   ],
   "source": [
    "show_images(images={})"
   ]
  },
  {
   "cell_type": "code",
   "execution_count": null,
   "metadata": {},
   "outputs": [],
   "source": []
  }
 ],
 "metadata": {
  "kernelspec": {
   "display_name": "venv",
   "language": "python",
   "name": "python3"
  },
  "language_info": {
   "codemirror_mode": {
    "name": "ipython",
    "version": 3
   },
   "file_extension": ".py",
   "mimetype": "text/x-python",
   "name": "python",
   "nbconvert_exporter": "python",
   "pygments_lexer": "ipython3",
   "version": "3.9.12"
  },
  "orig_nbformat": 4
 },
 "nbformat": 4,
 "nbformat_minor": 2
}
